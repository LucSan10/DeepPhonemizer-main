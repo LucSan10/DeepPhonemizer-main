{
  "cells": [
    {
      "cell_type": "code",
      "execution_count": 1,
      "metadata": {},
      "outputs": [
        {
          "name": "stdout",
          "output_type": "stream",
          "text": [
            "Requirement already satisfied: deep-phonemizer in /home/santiago/pytorch/lib/python3.6/site-packages (0.0.17)\n",
            "Requirement already satisfied: tqdm>=4.38.0 in /home/santiago/pytorch/lib/python3.6/site-packages (from deep-phonemizer) (4.62.3)\n",
            "Requirement already satisfied: tensorboard in /home/santiago/pytorch/lib/python3.6/site-packages (from deep-phonemizer) (2.7.0)\n",
            "Requirement already satisfied: PyYAML>=5.1 in /home/santiago/pytorch/lib/python3.6/site-packages (from deep-phonemizer) (6.0)\n",
            "Requirement already satisfied: torch>=1.2.0 in /home/santiago/pytorch/lib/python3.6/site-packages (from deep-phonemizer) (1.8.2+cu102)\n",
            "Requirement already satisfied: dataclasses in /home/santiago/pytorch/lib/python3.6/site-packages (from torch>=1.2.0->deep-phonemizer) (0.8)\n",
            "Requirement already satisfied: typing-extensions in /home/santiago/.local/lib/python3.6/site-packages (from torch>=1.2.0->deep-phonemizer) (3.10.0.2)\n",
            "Requirement already satisfied: numpy in /home/santiago/pytorch/lib/python3.6/site-packages (from torch>=1.2.0->deep-phonemizer) (1.19.5)\n",
            "Requirement already satisfied: werkzeug>=0.11.15 in /home/santiago/pytorch/lib/python3.6/site-packages (from tensorboard->deep-phonemizer) (2.0.2)\n",
            "Requirement already satisfied: markdown>=2.6.8 in /home/santiago/pytorch/lib/python3.6/site-packages (from tensorboard->deep-phonemizer) (3.3.4)\n",
            "Requirement already satisfied: grpcio>=1.24.3 in /home/santiago/pytorch/lib/python3.6/site-packages (from tensorboard->deep-phonemizer) (1.41.0)\n",
            "Requirement already satisfied: tensorboard-data-server<0.7.0,>=0.6.0 in /home/santiago/pytorch/lib/python3.6/site-packages (from tensorboard->deep-phonemizer) (0.6.1)\n",
            "Requirement already satisfied: google-auth<3,>=1.6.3 in /home/santiago/pytorch/lib/python3.6/site-packages (from tensorboard->deep-phonemizer) (2.3.0)\n",
            "Requirement already satisfied: requests<3,>=2.21.0 in /home/santiago/pytorch/lib/python3.6/site-packages (from tensorboard->deep-phonemizer) (2.26.0)\n",
            "Requirement already satisfied: tensorboard-plugin-wit>=1.6.0 in /home/santiago/pytorch/lib/python3.6/site-packages (from tensorboard->deep-phonemizer) (1.8.0)\n",
            "Requirement already satisfied: google-auth-oauthlib<0.5,>=0.4.1 in /home/santiago/pytorch/lib/python3.6/site-packages (from tensorboard->deep-phonemizer) (0.4.6)\n",
            "Requirement already satisfied: absl-py>=0.4 in /home/santiago/pytorch/lib/python3.6/site-packages (from tensorboard->deep-phonemizer) (0.15.0)\n",
            "Requirement already satisfied: setuptools>=41.0.0 in /home/santiago/pytorch/lib/python3.6/site-packages (from tensorboard->deep-phonemizer) (58.2.0)\n",
            "Requirement already satisfied: protobuf>=3.6.0 in /home/santiago/pytorch/lib/python3.6/site-packages (from tensorboard->deep-phonemizer) (3.19.0)\n",
            "Requirement already satisfied: wheel>=0.26 in /usr/lib/python3/dist-packages (from tensorboard->deep-phonemizer) (0.30.0)\n",
            "Requirement already satisfied: six in /home/santiago/.local/lib/python3.6/site-packages (from absl-py>=0.4->tensorboard->deep-phonemizer) (1.16.0)\n",
            "Requirement already satisfied: cachetools<5.0,>=2.0.0 in /home/santiago/pytorch/lib/python3.6/site-packages (from google-auth<3,>=1.6.3->tensorboard->deep-phonemizer) (4.2.4)\n",
            "Requirement already satisfied: pyasn1-modules>=0.2.1 in /home/santiago/pytorch/lib/python3.6/site-packages (from google-auth<3,>=1.6.3->tensorboard->deep-phonemizer) (0.2.8)\n",
            "Requirement already satisfied: rsa<5,>=3.1.4 in /home/santiago/pytorch/lib/python3.6/site-packages (from google-auth<3,>=1.6.3->tensorboard->deep-phonemizer) (4.7.2)\n",
            "Requirement already satisfied: requests-oauthlib>=0.7.0 in /home/santiago/pytorch/lib/python3.6/site-packages (from google-auth-oauthlib<0.5,>=0.4.1->tensorboard->deep-phonemizer) (1.3.0)\n",
            "Requirement already satisfied: importlib-metadata in /home/santiago/.local/lib/python3.6/site-packages (from markdown>=2.6.8->tensorboard->deep-phonemizer) (4.8.1)\n",
            "Requirement already satisfied: idna<4,>=2.5 in /usr/lib/python3/dist-packages (from requests<3,>=2.21.0->tensorboard->deep-phonemizer) (2.6)\n",
            "Requirement already satisfied: charset-normalizer~=2.0.0 in /home/santiago/pytorch/lib/python3.6/site-packages (from requests<3,>=2.21.0->tensorboard->deep-phonemizer) (2.0.7)\n",
            "Requirement already satisfied: urllib3<1.27,>=1.21.1 in /usr/lib/python3/dist-packages (from requests<3,>=2.21.0->tensorboard->deep-phonemizer) (1.22)\n",
            "Requirement already satisfied: certifi>=2017.4.17 in /usr/lib/python3/dist-packages (from requests<3,>=2.21.0->tensorboard->deep-phonemizer) (2018.1.18)\n",
            "Requirement already satisfied: pyasn1<0.5.0,>=0.4.6 in /home/santiago/pytorch/lib/python3.6/site-packages (from pyasn1-modules>=0.2.1->google-auth<3,>=1.6.3->tensorboard->deep-phonemizer) (0.4.8)\n",
            "Requirement already satisfied: oauthlib>=3.0.0 in /home/santiago/pytorch/lib/python3.6/site-packages (from requests-oauthlib>=0.7.0->google-auth-oauthlib<0.5,>=0.4.1->tensorboard->deep-phonemizer) (3.1.1)\n",
            "Requirement already satisfied: zipp>=0.5 in /home/santiago/.local/lib/python3.6/site-packages (from importlib-metadata->markdown>=2.6.8->tensorboard->deep-phonemizer) (3.6.0)\n",
            "\u001b[33mWARNING: You are using pip version 21.3; however, version 21.3.1 is available.\n",
            "You should consider upgrading via the '/home/santiago/pytorch/bin/python3 -m pip install --upgrade pip' command.\u001b[0m\n"
          ]
        }
      ],
      "source": [
        "!pip install deep-phonemizer"
      ]
    },
    {
      "cell_type": "code",
      "execution_count": 4,
      "metadata": {
        "id": "oZ1L1BlhOUMR"
      },
      "outputs": [
        {
          "name": "stderr",
          "output_type": "stream",
          "text": [
            "2021-12-01 00:43:47,503.503 DEBUG __init__:  (private) matplotlib data path: /home/santiago/pytorch/lib/python3.6/site-packages/matplotlib/mpl-data\n",
            "2021-12-01 00:43:47,505.505 DEBUG __init__:  matplotlib data path: /home/santiago/pytorch/lib/python3.6/site-packages/matplotlib/mpl-data\n",
            "2021-12-01 00:43:47,519.519 DEBUG __init__:  CONFIGDIR=/home/santiago/.config/matplotlib\n",
            "2021-12-01 00:43:47,526.526 DEBUG __init__:  matplotlib version 3.3.4\n",
            "2021-12-01 00:43:47,527.527 DEBUG __init__:  interactive is False\n",
            "2021-12-01 00:43:47,529.529 DEBUG __init__:  platform is linux\n",
            "2021-12-01 00:43:47,532.532 DEBUG __init__:  loaded modules: ['builtins', 'sys', '_frozen_importlib', '_imp', '_warnings', '_thread', '_weakref', '_frozen_importlib_external', '_io', 'marshal', 'posix', 'zipimport', 'encodings', 'codecs', '_codecs', 'encodings.aliases', 'encodings.utf_8', '_signal', '__main__', 'encodings.latin_1', 'io', 'abc', '_weakrefset', 'site', 'os', 'errno', 'stat', '_stat', 'posixpath', 'genericpath', 'os.path', '_collections_abc', '_sitebuiltins', '_bootlocale', '_locale', 'types', 'functools', '_functools', 'collections', 'operator', '_operator', 'keyword', 'heapq', '_heapq', 'itertools', 'reprlib', '_collections', 'weakref', 'collections.abc', 'importlib', 'importlib._bootstrap', 'importlib._bootstrap_external', 'warnings', 'importlib.util', 'importlib.abc', 'importlib.machinery', 'contextlib', 'google', 'mpl_toolkits', 'sysconfig', '_sysconfigdata_m_linux_x86_64-linux-gnu', 'zope', 'sitecustomize', 'apport_python_hook', 'runpy', 'pkgutil', 'ipykernel', 'ipykernel._version', 'ipykernel.connect', 'json', 'json.decoder', 're', 'enum', 'sre_compile', '_sre', 'sre_parse'\n",
            "2021-12-01 00:43:47,627.627 DEBUG __init__:  CACHEDIR=/home/santiago/.cache/matplotlib\n",
            "2021-12-01 00:43:47,638.638 DEBUG font_manager:  Using fontManager instance from /home/santiago/.cache/matplotlib/fontlist-v330.json\n",
            "2021-12-01 00:43:48,141.141 DEBUG pyplot:  Loaded backend module://ipykernel.pylab.backend_inline version unknown.\n",
            "2021-12-01 00:43:48,162.162 DEBUG pyplot:  Loaded backend module://ipykernel.pylab.backend_inline version unknown.\n"
          ]
        }
      ],
      "source": [
        "import pandas as pd\n",
        "import glob\n",
        "import matplotlib.pyplot as plt\n",
        "\n",
        "allFiles = glob.glob(\"dp/notebooks/lexicons/*\")\n",
        "allDF = (pd.read_csv(f, encoding='utf-8', sep='\\t', names=['grapheme', 'phoneme']) for f in allFiles)\n",
        "\n",
        "df = pd.concat(allDF, ignore_index=True)\n",
        "df.insert(0, 'lang', 'pt_br')"
      ]
    },
    {
      "cell_type": "code",
      "execution_count": 5,
      "metadata": {},
      "outputs": [],
      "source": [
        "df['grapheme'] = df['grapheme'].map(str)\n",
        "df['phoneme'] = df['phoneme'].map(str)\n",
        "\n",
        "#df['phoneme'] = df['phoneme'].str.replace('.', '')\n",
        "#df['phoneme'] = df['phoneme'].str.replace(\"'\", '')"
      ]
    },
    {
      "cell_type": "code",
      "execution_count": 6,
      "metadata": {},
      "outputs": [],
      "source": [
        "graphemes = ''.join(sorted(list(set(df['grapheme'].sum()))))\n",
        "phonemes = sorted(list(set(df['phoneme'].str.split(\"\\\\\").sum())))[3:]\n",
        "phonemes.append(\" \")\n",
        "phonemes.append(\"~\")"
      ]
    },
    {
      "cell_type": "code",
      "execution_count": 7,
      "metadata": {},
      "outputs": [],
      "source": [
        "df['phoneme'] = df['phoneme'].str.replace('\\\\', '')\n",
        "df['gsize'] = df['grapheme'].apply(lambda x : len(x))\n",
        "df['psize'] = df['phoneme'].apply(lambda x : len(x))\n",
        "gsizemax = df['gsize'].max()"
      ]
    },
    {
      "cell_type": "code",
      "execution_count": 14,
      "metadata": {},
      "outputs": [
        {
          "data": {
            "text/plain": [
              "'Inspirado por uma experiência bem-sucedida nas comemorações do primeiro centenário da Proclamação da República, Tales encomendou-me uma série de especiais históricos, que seriam distribuídos com a edição regular de Veja como brinde para seus assinantes e compradores de banca.'"
            ]
          },
          "execution_count": 14,
          "metadata": {},
          "output_type": "execute_result"
        }
      ],
      "source": [
        "df[df['gsize'] > 225]['grapheme'][196]"
      ]
    },
    {
      "cell_type": "code",
      "execution_count": 7,
      "metadata": {},
      "outputs": [],
      "source": [
        "subset = df[['lang', 'grapheme', 'phoneme']]\n",
        "train_data = [tuple(x) for x in subset.to_numpy()]"
      ]
    },
    {
      "cell_type": "code",
      "execution_count": 8,
      "metadata": {},
      "outputs": [
        {
          "data": {
            "text/plain": [
              "10180"
            ]
          },
          "execution_count": 8,
          "metadata": {},
          "output_type": "execute_result"
        }
      ],
      "source": [
        "len(train_data)"
      ]
    },
    {
      "cell_type": "code",
      "execution_count": 24,
      "metadata": {
        "id": "MiV-OUi0FQ-O"
      },
      "outputs": [
        {
          "name": "stdout",
          "output_type": "stream",
          "text": [
            "paths {'checkpoint_dir': 'checkpoints', 'data_dir': 'datasets'}\n",
            "preprocessing {'languages': ['pt_br'], 'text_symbols': ' %+,0123456789=abcdefghijklmnopqrstuvwxyzªàáâãçèéêíîïóôõöúûüý', 'phoneme_symbols': [\"'\", '.', 'E', 'J', 'L', 'O', 'R', 'S', 'X', 'Z', 'a', 'a~', 'b', 'd', 'dZ', 'e', 'ej', 'e~', 'e~j~', 'f', 'g', 'i', 'i~', 'j', 'js', 'j~', 'j~s', 'k', 'l', 'm', 'n', 'o', 'ow', 'o~', 'p', 'pau', 'r', 's', 't', 'tS', 'u', 'u~', 'v', 'w', 'w~', 'z', ' ', '~'], 'char_repeats': 3, 'lowercase': False, 'n_val': 2000}\n",
            "model {'type': 'transformer', 'd_model': 512, 'd_fft': 1024, 'layers': 6, 'dropout': 0.1, 'heads': 4}\n",
            "training {'learning_rate': 0.0001, 'warmup_steps': 100, 'scheduler_plateau_factor': 0.5, 'scheduler_plateau_patience': 10, 'batch_size': 8, 'batch_size_val': 8, 'epochs': 10, 'generate_steps': 1000, 'validate_steps': 1000, 'checkpoint_steps': 2000, 'n_generate_samples': 10, 'store_phoneme_dict_in_model': True}\n"
          ]
        }
      ],
      "source": [
        "# Read standard config and adjust some params for speedup\n",
        "from dp.utils.io import read_config, save_config\n",
        "import dp\n",
        "import os\n",
        "\n",
        "config_file = os.path.dirname(dp.__file__) + '/configs/forward_config.yaml'\n",
        "config = read_config(config_file)\n",
        "config['preprocessing']['languages'] = ['pt_br']\n",
        "config['preprocessing']['text_symbols'] = graphemes\n",
        "config['preprocessing']['phoneme_symbols'] = phonemes\n",
        "config['preprocessing']['lowercase'] = False\n",
        "config['preprocessing']['n_val'] = 2000\n",
        "\n",
        "config['training']['epochs'] = 10\n",
        "config['training']['batch_size'] = 8\n",
        "config['training']['batch_size_val'] = 8\n",
        "config['training']['warmup_steps'] = 100\n",
        "config['training']['generate_steps'] = 1000\n",
        "config['training']['validate_steps'] = 1000\n",
        "config['training']['checkpoint_steps'] = 2000\n",
        "save_config(config, 'config.yaml')\n",
        "\n",
        "for k, v in config.items():\n",
        "\tprint(f'{k} {v}')"
      ]
    },
    {
      "cell_type": "code",
      "execution_count": 25,
      "metadata": {
        "id": "K09wG-ymXECZ"
      },
      "outputs": [
        {
          "name": "stderr",
          "output_type": "stream",
          "text": [
            "2021-11-06 22:29:36,366.366 INFO preprocess:  Preprocessing, train data: with 10180 files.\n",
            "2021-11-06 22:29:36,388.388 INFO preprocess:  Performing random split with num val: 2000\n",
            "2021-11-06 22:29:36,402.402 INFO preprocess:  Processing train data...\n",
            "100%|██████████| 8154/8154 [00:00<00:00, 11334.77it/s]\n",
            "2021-11-06 22:29:37,272.272 INFO preprocess:  \n",
            "Saving datasets to: /home/santiago/DeepPhonemizer-main/dp/notebooks/datasets\n",
            "2021-11-06 22:29:37,420.420 INFO preprocess:  Preprocessing. \n",
            "Train counts (deduplicated): [('pt_br', 8154)]\n",
            "Val counts (including duplicates): [('pt_br', 2026)]\n",
            "2021-11-06 22:29:37,437.437 INFO train:  Initializing new model from config...\n",
            "2021-11-06 22:29:37,470.470 INFO train:  Checkpoints will be stored at /home/santiago/DeepPhonemizer-main/dp/notebooks/checkpoints\n",
            "Epoch: 1 | Step 1019 | Loss: 1.487: 100%|██████████| 1019/1019 [02:55<00:00,  5.81it/s]\n",
            "Epoch: 2 | Step 2038 | Loss: 0.9793: 100%|██████████| 1019/1019 [03:33<00:00,  4.77it/s]\n",
            "Epoch: 3 | Step 3057 | Loss: 0.6013: 100%|██████████| 1019/1019 [03:55<00:00,  4.32it/s]\n",
            "Epoch: 4 | Step 4076 | Loss: 0.3620: 100%|██████████| 1019/1019 [04:17<00:00,  3.95it/s]\n",
            "Epoch: 5 | Step 5095 | Loss: 0.2448: 100%|██████████| 1019/1019 [04:17<00:00,  3.96it/s]\n",
            "Epoch: 6 | Step 6114 | Loss: 0.1867: 100%|██████████| 1019/1019 [04:17<00:00,  3.95it/s]\n",
            "Epoch: 7 | Step 7133 | Loss: 0.1513: 100%|██████████| 1019/1019 [04:20<00:00,  3.91it/s]\n",
            "Epoch: 8 | Step 8152 | Loss: 0.1296: 100%|██████████| 1019/1019 [04:25<00:00,  3.84it/s]\n",
            "Epoch: 9 | Step 9171 | Loss: 0.1123: 100%|██████████| 1019/1019 [04:25<00:00,  3.84it/s]\n",
            "Epoch: 10 | Step 10190 | Loss: 0.1011: 100%|██████████| 1019/1019 [04:24<00:00,  3.85it/s]\n"
          ]
        }
      ],
      "source": [
        "from dp.preprocess import preprocess\n",
        "from dp.train import train\n",
        "import torch\n",
        "\n",
        "torch.cuda.empty_cache()\n",
        "preprocess(config_file='config.yaml', train_data=train_data, deduplicate_train_data=False)\n",
        "train(config_file='config.yaml')"
      ]
    },
    {
      "cell_type": "code",
      "execution_count": 16,
      "metadata": {
        "colab": {
          "base_uri": "https://localhost:8080/"
        },
        "id": "2KcIwL6QdvEJ",
        "outputId": "ed499929-1103-4a22-dce8-4a54d85f9b9e"
      },
      "outputs": [
        {
          "name": "stderr",
          "output_type": "stream",
          "text": [
            "2021-12-01 00:46:25,899.899 DEBUG phonemizer:  Initializing phonemizer with model step 53618\n"
          ]
        },
        {
          "name": "stdout",
          "output_type": "stream",
          "text": [
            "i~s.pi'ra.du poX u~.ma es.pe.ri'e~.sia be~j~-su.se'dZi.da najs ko.me.mo.ra'so~j~s du pri~'mej.ru se~.te'na.riu da pro.kla.ma'sa~w~ da Re'publi.ka, 'ta.lis e~.ko.me~'dow-'mi u~.ma 'sEri dZi es.pe.si'ajs is'tOri.kus, ki se'ri.a~w~ dZis.tri.bu'idus ko~ 'a e.dZi'sa~w~ Re.gu'laX dZi 've.Za 'ko~.mu bri~'dZi 'pa.ra 'se.us a.si~'na~.tSis 'ejs ko~.pra'do.ris dZi 'ba~.ka.\n"
          ]
        }
      ],
      "source": [
        "# Load phonemizer (including the training data dictionary)\n",
        "from dp.phonemizer import Phonemizer\n",
        "\n",
        "phonemizer = Phonemizer.from_checkpoint(\n",
        "    './checkpoints/autoreg/batch-8/model-512/fft-1024/best_model.pt')\n",
        "result = phonemizer('Inspirado por uma experiência bem-sucedida nas comemorações do primeiro centenário da Proclamação da República, Tales encomendou-me uma série de especiais históricos, que seriam distribuídos com a edição regular de Veja como brinde para seus assinantes e compradores de banca.', lang='pt_br')\n",
        "\n",
        "print(result)"
      ]
    },
    {
      "cell_type": "code",
      "execution_count": 3,
      "metadata": {
        "colab": {
          "base_uri": "https://localhost:8080/"
        },
        "id": "Xt85fzFneDno",
        "outputId": "bc1cb892-9cd2-4540-b930-e4443ddf69c2"
      },
      "outputs": [
        {
          "name": "stdout",
          "output_type": "stream",
          "text": [
            "carregar ka.Re'gaX 0.9999020113912649\n",
            "ela 'E.la 0.9998041492615111\n"
          ]
        }
      ],
      "source": [
        "# Phonemize a list of texts and pull out model predictions with confidence scores\n",
        "result = phonemizer.phonemise_list(['carregar ela'], lang='pt_br')\n",
        "\n",
        "for word, pred in result.predictions.items():\n",
        "\tprint(f'{word} {pred.phonemes} {pred.confidence}')"
      ]
    },
    {
      "cell_type": "code",
      "execution_count": null,
      "metadata": {},
      "outputs": [],
      "source": []
    }
  ],
  "metadata": {
    "accelerator": "GPU",
    "colab": {
      "collapsed_sections": [],
      "name": "Training_Example.ipynb",
      "provenance": []
    },
    "interpreter": {
      "hash": "cde60fc070cc7e7c1fe92306444b0b222b6cd64a006490f96de528ff53cd4f57"
    },
    "kernelspec": {
      "display_name": "Python 3.6.9 64-bit ('pytorch': venv)",
      "name": "python3"
    },
    "language_info": {
      "codemirror_mode": {
        "name": "ipython",
        "version": 3
      },
      "file_extension": ".py",
      "mimetype": "text/x-python",
      "name": "python",
      "nbconvert_exporter": "python",
      "pygments_lexer": "ipython3",
      "version": "3.6.9"
    }
  },
  "nbformat": 4,
  "nbformat_minor": 0
}
